{
 "cells": [
  {
   "cell_type": "markdown",
   "metadata": {},
   "source": [
    "# tensor flow memo\n",
    "再量子化の所が間違ってる."
   ]
  },
  {
   "cell_type": "code",
   "execution_count": 27,
   "metadata": {
    "collapsed": false
   },
   "outputs": [
    {
     "name": "stdout",
     "output_type": "stream",
     "text": [
      "[ 0.  1.  2.  3.]\n",
      "[  4.   6.   8.  10.]\n",
      "[  4.   7.  10.  13.]\n"
     ]
    }
   ],
   "source": [
    "import numpy as np\n",
    "\n",
    "# 2bitの最大値\n",
    "MAX_VALUE = 3 \n",
    "\n",
    "def deQuantize(arr, max, min):\n",
    "    \"\"\"量子化を元に戻す\"\"\"\n",
    "    gain = (max - min) / MAX_VALUE\n",
    "    return arr * gain + min\n",
    "\n",
    "# a = [0,1,2,3]\n",
    "qt_a = np.array([0, 1, 2, 3])\n",
    "max_a = 3\n",
    "min_a = 0\n",
    "print(deQuantize(qt_a,max_a,min_a))\n",
    "\n",
    "# b = [4, 6, 8, 10]\n",
    "qt_b = np.array([0, 1, 2, 3])\n",
    "max_b = 10\n",
    "min_b = 4\n",
    "print(deQuantize(qt_b,max_b,min_b))\n",
    "\n",
    "# c = a + b\n",
    "# 倍率を求める\n",
    "gain = (max_b - min_b) / (max_a - min_a)\n",
    "qt_c = qt_b * gain + qt_a\n",
    "# qt_cの最大値が9なので、2bitに収めるために３で割る。\n",
    "# 新しい量子化\n",
    "q_param = np.max(qt_c) / MAX_VALUE\n",
    "qt_c /= q_param\n",
    "\n",
    "# 最大値、最小値は足すだけ\n",
    "min_c = min_a + min_b\n",
    "max_c = max_a + max_b\n",
    "\n",
    "# 一応これでも計算はできてる。\n",
    "print(deQuantize(qt_c,max_c,min_c))"
   ]
  },
  {
   "cell_type": "code",
   "execution_count": 28,
   "metadata": {
    "collapsed": false
   },
   "outputs": [
    {
     "name": "stdout",
     "output_type": "stream",
     "text": [
      "[ 4  7 10 13]\n"
     ]
    }
   ],
   "source": [
    "# 答え合わせ\n",
    "a = np.array([0,1,2,3])\n",
    "b = np.array([4,6,8,10])\n",
    "print(a+b)"
   ]
  },
  {
   "cell_type": "code",
   "execution_count": null,
   "metadata": {
    "collapsed": true
   },
   "outputs": [],
   "source": [
    "OK"
   ]
  }
 ],
 "metadata": {
  "kernelspec": {
   "display_name": "Python 3",
   "language": "python",
   "name": "python3"
  },
  "language_info": {
   "codemirror_mode": {
    "name": "ipython",
    "version": 3
   },
   "file_extension": ".py",
   "mimetype": "text/x-python",
   "name": "python",
   "nbconvert_exporter": "python",
   "pygments_lexer": "ipython3",
   "version": "3.5.2"
  }
 },
 "nbformat": 4,
 "nbformat_minor": 0
}
