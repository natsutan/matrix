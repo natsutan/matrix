{
 "cells": [
  {
   "cell_type": "markdown",
   "metadata": {},
   "source": [
    "# 1.3 射影\n",
    "\n",
    "べき等な線形写像 $P^2=P$を射影と呼ぶ。射影$P$には$\\textbf{C}^{n}$の直和分解$\\textbf{C}^{n}=M \\bigoplus  W$、ただしM = Im P, W = Ker Pが対応し、逆に$\\textbf{C}^{n}$の直和分解には射影が対応する。「PはWに沿ったMの上への射影である」といういいかたをする。$N=W^\\perp$と置くと、$W=N^\\perp = \\{x \\in \\textbf{C}^{n} ; y \\in N $ に対して $x^\\ast y=0\\}$である。\n",
    "\n",
    "### 補助定理 1.3.1\n",
    "空間$\\textbf{C}^{n}$が$\\textbf{C}^{n}=M \\bigoplus  N^\\perp$と直和されるための必要十分条件は、$\\theta_{max} < \\frac {2} {\\pi} $である。\n",
    "\n",
    "### 命題 1.3.2\n",
    "$P=XY^{\\ast}$は、$\\textbf{C}^{n}$の標準基底に関して、$N^\\perp$に沿ってのMの上への射影を表す行列である。\n",
    "\n",
    "M=Nの時、Mの上の直交射影を$P^{\\perp}$とあらわす。$P^{\\perp}$は$\\textbf{C}^{n}$の標準基底に関して、$XX^{\\ast}$と書き表せる。ここで、XはMの席直交基底($X^{\\ast}X=I$)である。$XX^{\\ast}$はエルミート行列であること、また$\\|P^{\\perp}\\|_2^2 = 1$である。\n"
   ]
  }
 ],
 "metadata": {
  "kernelspec": {
   "display_name": "Python [Root]",
   "language": "python",
   "name": "Python [Root]"
  },
  "language_info": {
   "codemirror_mode": {
    "name": "ipython",
    "version": 3
   },
   "file_extension": ".py",
   "mimetype": "text/x-python",
   "name": "python",
   "nbconvert_exporter": "python",
   "pygments_lexer": "ipython3",
   "version": "3.5.2"
  }
 },
 "nbformat": 4,
 "nbformat_minor": 0
}
