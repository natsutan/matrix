{
 "cells": [
  {
   "cell_type": "markdown",
   "metadata": {
    "collapsed": true
   },
   "source": [
    "# 第一章 線形代数の補足\n",
    "\n",
    "本書ではJordan標準形ではなくSchur標準形を使う。Jordan標準形は理論的には重要であるが、数値的には安定ではない。\n",
    "\n",
    "## 1.1 記号と定義\n",
    "複素数の成分 $( \\xi_{i}) _{1}^{n} $ からなる列ベクトル$x$の空間を$\\textbf{C}^{n}$であらわす。列ベクトルはベクトルを縦に並べたもの。\n",
    "$x^{*}$は、共役複素数$( \\overline {\\xi} _{i} )$を成分とする行ベクトルである。\n",
    "$\\textbf{C}^{n}$上のノルムとして、ユークリッドノルム\n",
    "\n",
    "$\\|x\\|_{2} = ( \\sum_{i=1}^{n} |\\xi_{i}|^{2} )^{\\frac {1} {2}} $\n",
    "\n",
    "\n",
    "を標準として用いる。　$\\| \\bullet \\|$は、$\\textbf{C}^{n}$上の任意のノルムをあらわす。\n",
    "\n",
    "$\\textbf{C}^{n}$上のスカラー積（内積）は、$(x, y) = (y \\ast x) $である。$(x,y)=0$のとき、xとyは直交している。\n",
    "$\\{x_{i}\\}_{1}^{n}$ を$\\textbf{C}^{n}$の一つの基底とすると、この基底が正規直交であるとは、\n",
    "\n",
    "$(x_{i}, x_{j}) = \\delta _{ij}, i,j=1.\\cdots ,n$\n",
    "\n",
    "であることをいう。\n",
    "\n",
    "\n"
   ]
  },
  {
   "cell_type": "code",
   "execution_count": null,
   "metadata": {
    "collapsed": true
   },
   "outputs": [],
   "source": []
  }
 ],
 "metadata": {
  "anaconda-cloud": {},
  "kernelspec": {
   "display_name": "Python [Root]",
   "language": "python",
   "name": "Python [Root]"
  },
  "language_info": {
   "codemirror_mode": {
    "name": "ipython",
    "version": 3
   },
   "file_extension": ".py",
   "mimetype": "text/x-python",
   "name": "python",
   "nbconvert_exporter": "python",
   "pygments_lexer": "ipython3",
   "version": "3.5.2"
  }
 },
 "nbformat": 4,
 "nbformat_minor": 0
}
