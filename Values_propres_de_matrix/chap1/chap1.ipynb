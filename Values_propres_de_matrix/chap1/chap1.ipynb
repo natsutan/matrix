{
 "cells": [
  {
   "cell_type": "markdown",
   "metadata": {
    "collapsed": true
   },
   "source": [
    "# 第一章 線形代数の補足\n",
    "\n",
    "本書ではJordan標準形ではなくSchur標準形を使う。Jordan標準形は理論的には重要であるが、数値的には安定ではない。\n",
    "\n",
    "## 1.1 記号と定義\n",
    "複素数の成分 $( \\xi_{i}) _{1}^{n} $ からなる列ベクトル$x$の空間を$\\textbf{C}^{n}$であらわす。列ベクトルはベクトルを縦に並べたもの。\n",
    "$x^{*}$は、共役複素数$( \\overline {\\xi} _{i} )$を成分とする行ベクトルである。\n",
    "$\\textbf{C}^{n}$上のノルムとして、ユークリッドノルム\n",
    "\n",
    "$\\|x\\|_{2} = ( \\sum_{i=1}^{n} |\\xi_{i}|^{2} )^{\\frac {1} {2}} $\n",
    "\n",
    "\n",
    "を標準として用いる。　$\\| \\bullet \\|$は、$\\textbf{C}^{n}$上の任意のノルムをあらわす。\n",
    "\n",
    "$\\textbf{C}^{n}$上のスカラー積（内積）は、$(x, y) = (y \\ast x) $である。$(x,y)=0$のとき、xとyは直交している。\n",
    "$\\{x_{i}\\}_{1}^{n}$ を$\\textbf{C}^{n}$の一つの基底とすると、この基底が正規直交であるとは、\n",
    "\n",
    "$(x_{i}, x_{j}) = \\delta _{ij}, i,j=1.\\cdots ,n$\n",
    "\n",
    "であることをいう。\n",
    "\n",
    "ベクトルxの正規直交基底による表現は、$x=\\sum_{i=1}^{n}(x,x_{i})x_{i} $で与えられれる。<font color=\"RoyalBlue\">$x_{0} = (0,0,1), x_{1} = (0, 1,0), x_{2} = (0, 0, 1) $で考えると分かる。</font>\n",
    "\n",
    "基底が正規直交で無い時は、$x=\\sum_{i=1}^{n} \\xi_{i} x_{i}$ の係数$\\xi_{i}$は、$\\xi_{i}=(x, y_{i}), i=1,\\cdots,n$と書かれる。ここで、$\\{y_{i}\\}_{1}^{n}$は$\\textbf{C}^{n}$の別の基底で、随伴基底と呼ぶ。 $\\{y_{i}\\}$と $\\{x_{i}\\}$とは、$\\textbf{C}^{n}$の元の互いに双直交な族をなす。\n",
    "\n",
    "\n",
    "$ \\{a_{j}\\}_{1}^{r}$ を$\\textbf{C}^{n}$上のr個のベクトルの集合とする。$A=[a_{1}, \\cdots, a_{r}] $と書いて、$ \\{a_{j}\\}_{1}^{r}$ を列ベクトルとして持つ、nxr（n行r列）の行列を表す。\n",
    "\n",
    "<img src=\"./matrix_nxr.png\">\n",
    "\n",
    "$ \\{a_{j}\\}_{1}^{r}$ により生成されるベクトル空間を $lin(a_{1},\\cdots,a_{r})$とかく。$lin(a_{1},\\cdots,a_{r})$ はAの像空間 Im Aである。\n",
    "    \n",
    "\n"
   ]
  },
  {
   "cell_type": "markdown",
   "metadata": {
    "collapsed": true
   },
   "source": [
    "### 例 1.1.1\n",
    "単位行列 $I_{n}$は、$\\textbf{C}^{n}$ の恒等写像を示す。混乱の恐れが無い時はnを省略する。\n",
    "\n"
   ]
  },
  {
   "cell_type": "markdown",
   "metadata": {},
   "source": [
    "$ A^{\\ast} = (\\overline{a}_{ij}) $は、共役転置行列である。$A$が実数の時は、$ A^{\\ast} = (\\overline{a}_{ij}) $は転置行列$A^{T}$になる。$tr A = \\sum_{i=1}^{n}a_{ii} $は行列のトレース（<font color=\"RoyalBlue\">対角和</font>）である。\n",
    "\n",
    "$AA^{\\ast} = A^{\\ast}A$ならば、Aは正規行列。$A=A^{\\ast}$なら$A$はエルミート行列。\n",
    "\n",
    "エルミート行列が正定値であるというのは、0でないベクトルxにたいして\n",
    "\n",
    "$ x \\neq 0 \\Rightarrow x^{\\ast}Ax > 0 $\n",
    "\n",
    "である。\n",
    "\n",
    "nxrの矩形行列Qが、*直交*行列であるというのは、$Q^{\\ast}Q = I_{r} $ということである。直交行列が正方行列の時、$Q^{\\ast}Q =QQ^{\\ast}= I_{n} $のとき、Qはユニタリ行列である。Qが実数ならば、$Q^{T}Q =QQ^{T}= I_{n} $。ユニタリ行列の列ベクトルは、$\\textbf{C}^{n}$の*正規直交基底*をなす。\n",
    "\n",
    "$\\textbf{C}$上のnxr型の行列全体の集合を$\\textbf{C}^{n \\times r}$とあらわす。$\\textbf{C}^{n \\times r}$は、$\\mathcal{L}(\\textbf{C}^{r},\\textbf{C}^{n})$(線形写像$\\textbf{C}^{r} \\rightarrow \\textbf{C}^{n}$の全体)と同形である。\n",
    "\n",
    "$(\\textbf{C}^{r}$と$\\textbf{C}^{n})$上にそれぞれ、ノルム $\\| \\bullet \\|_{ \\textbf{C}^{r} }$ 、$\\| \\bullet \\|_{ \\textbf{C}^{n} }$から導かれる行列Aのノルムは、\n",
    "\n",
    "$ \\| A \\| = max_{0 \\neq x \\in \\textbf{C}^{r} } \\frac {\\| Ax \\|_{\\textbf{C}^{n}} } {\\| x \\|_{\\textbf{C}^{r}}  } $  \n",
    "\n",
    "で定義される。従属ノルムと呼ぶ。\n"
   ]
  },
  {
   "cell_type": "markdown",
   "metadata": {},
   "source": [
    "### 例1.1.2\n",
    "<font color=\"RoyalBlue\">ノルムの説明はここがわかりやすい。</font>\n",
    "http://mathtrain.jp/lpnorm\n",
    "\n",
    "L1ノルム\n",
    "\n",
    "$ \\| A \\| = max_{ i \\leq j \\leq r} \\sum _{i=1}^{n} { | a_{ij} |} $ \n",
    "\n",
    "$ \\| A \\|_{ \\infty } = max_{ 1 \\leq i \\leq n} \\sum _{j=1}^{n} { | a_{ij} |} = \\| A^{\\ast}  \\|_{1} $ \n",
    "\n",
    "$ \\| A \\|_{ 2 } = \\| A^{\\ast}  \\|_{2} $ \n",
    " \n",
    "$\\|AB\\|\\lt\\|A\\| \\|B| $が成り立つ。\n",
    "\n",
    "ベクトルの条件数は、$cond(A) = \\|A\\| \\|A^{-1}\\| $ で定義される。<font color=\"RoyalBlue\">数値解析しやすさの指針となる。</font>\n",
    "\n",
    "#### スペクトル問題 \n",
    "$Ax=\\lambda x$ を満たす $\\lambda \\in \\textbf{C} $、$0 \\neq x \\in \\textbf{C}^{n} $を求めよ。\n",
    "\n",
    "定数$\\lambda$をAの固有値と呼び、xを固有値$\\lambda$に付随する固有ベクトルと呼ぶ。\n",
    "\n",
    "$\\lambda I - A=0$が、$\\lambda$がAの固有値である必要十分条件。固有値の集合をスペクトルと呼び、$\\rho$であらわす。スペクトルの中の最大値をスペクトル半径という。\n",
    "$AM \\subseteq M$は部分ベクトルMがAにより不変であることを示す。特に固有ベクトルにより生成される*固有部分空間* $Ker(A-\\lambda I)$はAにより不変である。\n",
    "\n",
    "$n \\times r$形の矩形行列Aの*特異値*とは、$r$次の正方行列$A^{\\ast}A$のr個の固有値の平行根のこと。\n",
    "\n",
    "$\\textbf{C}^{n}$上のノルム $\\| \\bullet \\|_{2} $と、$\\textbf{C}^{r}$上のノルム $\\| \\bullet \\|_{2} $で導かれるAのノルムは\n",
    "\n",
    "$ \\| A \\|_{2} = \\rho^{\\frac {1}{2}} (A^{\\ast} A) = \\sqrt {\\rho (A^{\\ast} A)}$\n",
    "\n",
    "により与えられる。Aのスペクトルノルムと呼ばれることが多い。スペクトルノルムは計算しやすいフロベニウスノルムで上から押さえられる。\n",
    "\n",
    "$ \\| A \\|_{F} = tr^{\\frac {1}{2}}  (A^{\\ast} A) = {(  \\sum_{i=1}^{n} \\sum_{j=1}^{r} \\| a_{ij} \\|^{2})} ^{\\frac {1}{2}}$\n",
    "\n",
    "\n",
    "\n",
    "\n",
    "\n"
   ]
  }
 ],
 "metadata": {
  "anaconda-cloud": {},
  "kernelspec": {
   "display_name": "Python [Root]",
   "language": "python",
   "name": "Python [Root]"
  },
  "language_info": {
   "codemirror_mode": {
    "name": "ipython",
    "version": 3
   },
   "file_extension": ".py",
   "mimetype": "text/x-python",
   "name": "python",
   "nbconvert_exporter": "python",
   "pygments_lexer": "ipython3",
   "version": "3.5.2"
  }
 },
 "nbformat": 4,
 "nbformat_minor": 0
}
