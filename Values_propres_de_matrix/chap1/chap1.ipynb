{
 "cells": [
  {
   "cell_type": "markdown",
   "metadata": {
    "collapsed": true
   },
   "source": [
    "# 第一章 線形代数の補足\n",
    "\n",
    "本書ではJordan標準形ではなくSchur標準形を使う。Jordan標準形は理論的には重要であるが、数値的には安定ではない。\n",
    "\n",
    "## 1.1 記号と定義\n",
    "複素数の成分 $( \\xi_{i}) _{1}^{n} $ からなる列ベクトル$x$の空間を$\\textbf{C}^{n}$であらわす。列ベクトルはベクトルを縦に並べたもの。\n",
    "$x^{*}$は、共役複素数$( \\overline {\\xi} _{i} )$を成分とする行ベクトルである。\n",
    "$\\textbf{C}^{n}$上のノルムとして、ユークリッドノルム\n",
    "\n",
    "$\\|x\\|_{2} = ( \\sum_{i=1}^{n} |\\xi_{i}|^{2} )^{\\frac {1} {2}} $\n",
    "\n",
    "\n",
    "を標準として用いる。　$\\| \\bullet \\|$は、$\\textbf{C}^{n}$上の任意のノルムをあらわす。\n",
    "\n",
    "$\\textbf{C}^{n}$上のスカラー積（内積）は、$(x, y) = (y \\ast x) $である。$(x,y)=0$のとき、xとyは直交している。\n",
    "$\\{x_{i}\\}_{1}^{n}$ を$\\textbf{C}^{n}$の一つの基底とすると、この基底が正規直交であるとは、\n",
    "\n",
    "$(x_{i}, x_{j}) = \\delta _{ij}, i,j=1.\\cdots ,n$\n",
    "\n",
    "であることをいう。\n",
    "\n",
    "ベクトルxの正規直交基底による表現は、$x=\\sum_{i=1}^{n}(x,x_{i})x_{i} $で与えられれる。<font color=\"RoyalBlue\">$x_{0} = (0,0,1), x_{1} = (0, 1,0), x_{2} = (0, 0, 1) $で考えると分かる。</font>\n",
    "\n",
    "基底が正規直交で無い時は、$x=\\sum_{i=1}^{n} \\xi_{i} x_{i}$ の係数$\\xi_{i}$は、$\\xi_{i}=(x, y_{i}), i=1,\\cdots,n$と書かれる。ここで、$\\{y_{i}\\}_{1}^{n}$は$\\textbf{C}^{n}$の別の基底で、随伴基底と呼ぶ。 $\\{y_{i}\\}$と $\\{x_{i}\\}$とは、$\\textbf{C}^{n}$の元の互いに双直交な族をなす。\n",
    "\n",
    "\n",
    "$ \\{a_{j}\\}_{1}^{r}$ を$\\textbf{C}^{n}$上のr個のベクトルの集合とする。$A=[a_{1}, \\cdots, a_{r}] $と書いて、$ \\{a_{j}\\}_{1}^{r}$ を列ベクトルとして持つ、nxr（n行r列）の行列を表す。\n",
    "\n",
    "<img src=\"./matrix_nxr.png\">\n",
    "\n",
    "$ \\{a_{j}\\}_{1}^{r}$ により生成されるベクトル空間を $lin(a_{1},\\cdots,a_{r})$とかく。$lin(a_{1},\\cdots,a_{r})$ はAの像空間 Im Aである。\n",
    "    \n",
    "\n",
    "\n",
    "\n"
   ]
  },
  {
   "cell_type": "code",
   "execution_count": null,
   "metadata": {
    "collapsed": true
   },
   "outputs": [],
   "source": []
  }
 ],
 "metadata": {
  "anaconda-cloud": {},
  "kernelspec": {
   "display_name": "Python [Root]",
   "language": "python",
   "name": "Python [Root]"
  },
  "language_info": {
   "codemirror_mode": {
    "name": "ipython",
    "version": 3
   },
   "file_extension": ".py",
   "mimetype": "text/x-python",
   "name": "python",
   "nbconvert_exporter": "python",
   "pygments_lexer": "ipython3",
   "version": "3.5.2"
  }
 },
 "nbformat": 4,
 "nbformat_minor": 0
}
