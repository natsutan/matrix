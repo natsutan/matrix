{
 "cells": [
  {
   "cell_type": "markdown",
   "metadata": {},
   "source": [
    "## 1.2 ２つの部分ベクトル空間の間の正準角\n",
    "MとNを$\\textbf{C}^{n}$の2つのr次元部分ベクトル空間とする。この2つの部分ベクトル空間の相対的な位置関係は、下記の補助定理を用いて定義する*正準角*で記述できる。\n",
    "\n",
    "部分ベクトル空間MとNに、それぞれ正規直交基底QとUが与えられているとする。$Q^{\\ast}Q = U^{\\ast}U = I$である。\n",
    "\n",
    "### 補助定理 1.2.1 \n",
    "$U^{\\ast}Q$の特異値は0と1の間にある。\n",
    "\n",
    "### 定義\n",
    "$c_i=cos {\\theta_i} $で定義されるr個の角$\\theta_i (0 \\leq \\theta_i \\leq \\frac{\\pi}{2} ) $ を、部分ベクトル空間のMとNの間の*正準角*と呼ぶ。\n",
    "\n",
    "\n",
    "\n"
   ]
  }
 ],
 "metadata": {
  "anaconda-cloud": {},
  "kernelspec": {
   "display_name": "Python [Root]",
   "language": "python",
   "name": "Python [Root]"
  },
  "language_info": {
   "codemirror_mode": {
    "name": "ipython",
    "version": 3
   },
   "file_extension": ".py",
   "mimetype": "text/x-python",
   "name": "python",
   "nbconvert_exporter": "python",
   "pygments_lexer": "ipython3",
   "version": "3.5.2"
  }
 },
 "nbformat": 4,
 "nbformat_minor": 0
}
