{
 "cells": [
  {
   "cell_type": "markdown",
   "metadata": {},
   "source": [
    "## 1.2 ２つの部分ベクトル空間の間の正準角\n",
    "MとNを$\\textbf{C}^{n}$の2つのr次元部分ベクトル空間とする。この2つの部分ベクトル空間の相対的な位置関係は、下記の補助定理を用いて定義する*正準角*で記述できる。\n",
    "\n",
    "部分ベクトル空間MとNに、それぞれ正規直交基底QとUが与えられているとする。$Q^{\\ast}Q = U^{\\ast}U = I$である。\n",
    "\n",
    "### 補助定理 1.2.1 \n",
    "$U^{\\ast}Q$の特異値は0と1の間にある。\n",
    "\n",
    "### 定義\n",
    "$c_i=cos {\\theta_i} $で定義されるr個の角$\\theta_i (0 \\leq \\theta_i \\leq \\frac{\\pi}{2} ) $ を、部分ベクトル空間のMとNの間の*正準角*と呼ぶ。\n",
    "\n",
    "$ \\frac {\\pi} {2} \\geq \\theta _1 \\geq \\theta _2 \\dots \\geq \\theta _r \\geq 0  $\n",
    "\n",
    "とし、対角行列 $ \\Theta $ を $ \\Theta = diag( \\theta_1, \\dots, \\theta_r) $と定義する。値が一番大きい$\\theta_{max} = \\theta_1 $を、最大角と呼ぶこともある。 \n",
    "\n",
    "任意の三角関数$\\tau$に対して$\\tau \\Theta = diag(\\tau \\theta_1, \\dots, \\tau \\theta_r) $と定義する。$U^{\\ast}Q$の特異点は$cos \\Theta = diag(cos \\theta_i )$の特異点である。同じ特異点を有するという関係を$\\sim$であらわすと、\n",
    "\n",
    "### 命題 1.2.2\n",
    "$U^{\\ast}Q \\sim cos \\Theta$\n",
    "\n",
    "$ \\| U^{\\ast}Q \\|_p = \\|cos \\Theta \\|_p $、pは2またはF。\n",
    "\n",
    "### 補助定理 1.2.3\n",
    "MとNにお互いの随伴基底が存在するための必要十分条件は、MとNの間の最大角$\\theta _{max} $が$ 2 / \\pi $よりも小さいことである。\n",
    "\n",
    "QとUとMとNの正規直交規定とする。$Y=UB, Y^{\\ast} Q = I$を満たすr次の正則な行列Bが存在するためには、$B^{ast}U^{ast}Q=I$でないといけない。$U^{\\ast}Q$が逆行列を持つ条件は、$cos(\\theta_{max}) \\gt 0 $である。\n",
    "\n",
    "### 補助定理 1.2.4\n",
    "X, Yおよび、X', Y'をMとNにおける2組の随伴基底とする。このとき、$X'=XC$および、$Y'=YC^{-\\ast}$を満たすr次の正則行列Cが存在する。\n",
    "\n",
    "### 命題 1.2.5\n",
    "$Y \\sim (cos \\Theta)^{-1}$ そして、$Q-Y \\sim tan \\Theta$ である。\n",
    "\n"
   ]
  }
 ],
 "metadata": {
  "anaconda-cloud": {},
  "kernelspec": {
   "display_name": "Python [Root]",
   "language": "python",
   "name": "Python [Root]"
  },
  "language_info": {
   "codemirror_mode": {
    "name": "ipython",
    "version": 3
   },
   "file_extension": ".py",
   "mimetype": "text/x-python",
   "name": "python",
   "nbconvert_exporter": "python",
   "pygments_lexer": "ipython3",
   "version": "3.5.2"
  }
 },
 "nbformat": 4,
 "nbformat_minor": 0
}
