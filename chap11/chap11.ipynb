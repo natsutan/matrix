{
 "cells": [
  {
   "cell_type": "markdown",
   "metadata": {
    "collapsed": true
   },
   "source": [
    "# 11章特異点分解\n",
    "\n",
    "## 低ランク行列による行列の近似\n",
    "### 低ランク行列の利点\n",
    "ランク1の行列の場合、mxn行列は、m+n個の数として格納すれば良い。\n",
    "ランクが2の行列も同様にコンパクトに格納できる。\n",
    "\n",
    "行列を低いランクの行列で近似したものは、その行列自身とほぼ同じ働きをする。 *主成分分析(PCA)*、*潜在的意味索引*と呼ばれる２つの解析的方法を吹くめ、さまざまな応用が存在する。\n",
    "\n",
    "### 行列のノルム\n",
    "フロベニウスノルム　各要素の自乗の総和\n",
    "\n",
    "$ \\|x\\|_F = \\sqrt{\\displaystyle \\sum_{i} \\sum_{j} A [i.j] ^ 2} $\n",
    "\n",
    "## 路面電車の路線配置問題\n"
   ]
  },
  {
   "cell_type": "code",
   "execution_count": null,
   "metadata": {
    "collapsed": true
   },
   "outputs": [],
   "source": [
    ""
   ]
  },
  {
   "cell_type": "code",
   "execution_count": null,
   "metadata": {
    "collapsed": true
   },
   "outputs": [],
   "source": [
    ""
   ]
  }
 ],
 "metadata": {
  "kernelspec": {
   "display_name": "Python 3",
   "language": "python",
   "name": "python3"
  },
  "language_info": {
   "codemirror_mode": {
    "name": "ipython",
    "version": 3.0
   },
   "file_extension": ".py",
   "mimetype": "text/x-python",
   "name": "python",
   "nbconvert_exporter": "python",
   "pygments_lexer": "ipython3",
   "version": "3.5.2"
  }
 },
 "nbformat": 4,
 "nbformat_minor": 0
}