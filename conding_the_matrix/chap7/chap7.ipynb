{
 "cells": [
  {
   "cell_type": "markdown",
   "metadata": {},
   "source": [
    "# 階段形式\n",
    "\n",
    "*階段形式* とは三角行列の一般化。\n",
    "\n",
    "$  \\left[ \\begin{array}{rrr} 0 & 2 & 3 & 0 & 5 & 6 \\\\ 0 & 0 & 1 & 0 & 3 & 4 \\\\ 0 & 0 & 0 & 0 & 1 & 2 \\\\ 0 & 0 & 0 & 0 & 0 & 9 \\end{array} \\right] $\n",
    "\n",
    "行列 $ A $ の各行に対し、0でない要素が初めて現れる列の様子が右下がりの階段のようになっている。\n",
    "\n",
    "## 階段形式からベクトル空間の基底へ\n",
    "\n",
    "### 行列が階段形式ならば、0でない要素を持つ行は行ベクトルの基底を成す。\n",
    "例えば、\n",
    "\n",
    "$  \\left[ \\begin{array}{rrr} 0 & 2 & 3 & 0 & 5 & 6 \\\\ 0 & 0 & 1 & 0 & 3 & 4 \\\\ 0 & 0 & 0 & 0 & 0 & 0 \\\\ 0 & 0 & 0 & 0 & 0 & 0 \\end{array} \\right] $\n",
    "\n",
    "の行ベクトルの基底は、\n",
    "$  \\left[ \\begin{array}{rrr} 0 & 2 & 3 & 0 & 5 & 6  \\end{array} \\right] $\n",
    "$  \\left[ \\begin{array}{rrr} 0 & 0 & 1 & 0 & 3 & 4  \\end{array} \\right] $\n",
    "である。\n",
    "\n",
    "## 行を０でない要素がはじめて現れる位置でソートする。\n",
    "\n",
    "\n",
    " "
   ]
  },
  {
   "cell_type": "code",
   "execution_count": 1,
   "metadata": {
    "collapsed": true
   },
   "outputs": [],
   "source": [
    "import numpy as np\n"
   ]
  },
  {
   "cell_type": "code",
   "execution_count": 2,
   "metadata": {
    "collapsed": true
   },
   "outputs": [],
   "source": [
    "def calc_rowlist(a):\n",
    "    r = []\n",
    "    for row in a:\n",
    "        pos = row.nonzero()[0][0]\n",
    "        r.append(pos)\n",
    "    return r"
   ]
  },
  {
   "cell_type": "code",
   "execution_count": 3,
   "metadata": {
    "collapsed": true
   },
   "outputs": [],
   "source": [
    "def conv_echelon_form(a):\n",
    "    row_list = calc_rowlist(a)\n",
    "    b = []\n",
    "    for c in range(len(row_list)):\n",
    "        try:\n",
    "            idx = row_list.index(c)\n",
    "            pivot = a[idx]\n",
    "            b.append(pivot)\n",
    "        except ValueError:\n",
    "            continue\n",
    "\n",
    "    return np.array(b, dtype=np.float32)"
   ]
  },
  {
   "cell_type": "code",
   "execution_count": 4,
   "metadata": {
    "collapsed": true
   },
   "outputs": [],
   "source": [
    "alist = [[0, 2, 3, 4, 5],\n",
    "         [0, 0, 0, 3, 2],\n",
    "         [1, 2, 3, 4, 5],\n",
    "         [0, 0, 0, 6, 7],\n",
    "         [0, 0, 0, 9, 8]]\n"
   ]
  },
  {
   "cell_type": "code",
   "execution_count": 5,
   "metadata": {
    "collapsed": false
   },
   "outputs": [
    {
     "name": "stdout",
     "output_type": "stream",
     "text": [
      "[[ 0.  2.  3.  4.  5.]\n",
      " [ 0.  0.  0.  3.  2.]\n",
      " [ 1.  2.  3.  4.  5.]\n",
      " [ 0.  0.  0.  6.  7.]\n",
      " [ 0.  0.  0.  9.  8.]]\n",
      "[[ 1.  2.  3.  4.  5.]\n",
      " [ 0.  2.  3.  4.  5.]\n",
      " [ 0.  0.  0.  3.  2.]]\n"
     ]
    }
   ],
   "source": [
    "A = np.array(alist, dtype=np.float32)\n",
    "B = conv_echelon_form(A)\n",
    "\n",
    "print(A)\n",
    "print(B)"
   ]
  },
  {
   "cell_type": "markdown",
   "metadata": {},
   "source": [
    "新しく追加する行をピボットと言う。\n",
    "階段になっていないというのもあるが、行が減っているので上手く動いていない。\n",
    "\n"
   ]
  },
  {
   "cell_type": "markdown",
   "metadata": {},
   "source": [
    "## 行基本変形\n",
    "ピボット行を適切に定数倍したものを、他の残った行から引いて、要素を０にする。"
   ]
  },
  {
   "cell_type": "code",
   "execution_count": 8,
   "metadata": {
    "collapsed": true
   },
   "outputs": [],
   "source": [
    "def calc_rowlist(a):\n",
    "    r = []\n",
    "    for row in a:\n",
    "        try:\n",
    "            pos = row.nonzero()[0][0]\n",
    "            r.append(pos)\n",
    "        except IndexError:\n",
    "            r.append(-1)\n",
    "    return r"
   ]
  },
  {
   "cell_type": "code",
   "execution_count": 6,
   "metadata": {
    "collapsed": true
   },
   "outputs": [],
   "source": [
    "def conv_echelon_form(a):\n",
    "    row_list = calc_rowlist(a)\n",
    "    b = []\n",
    "    for c in range(len(row_list)):\n",
    "        first = True\n",
    "        first_pivot = []\n",
    "        for v, i in zip(row_list, range(len(row_list))):\n",
    "            if c == v:\n",
    "                pivot = a[i]\n",
    "                if first:\n",
    "                    # 要素が全て０じゃなければ追加\n",
    "                    if len(np.where(pivot != 0)[0]) != 0:\n",
    "                        first_pivot = pivot\n",
    "                        first = False\n",
    "                        b.append(pivot)\n",
    "                else:\n",
    "                    # ピボット行以外の処理\n",
    "                    mult = a[i][c] / first_pivot[c]\n",
    "                    a[i] -= mult * first_pivot\n",
    "                    row_list = calc_rowlist(a)\n",
    "\n",
    "    return np.array(b, dtype=np.float32)"
   ]
  },
  {
   "cell_type": "code",
   "execution_count": 10,
   "metadata": {
    "collapsed": false
   },
   "outputs": [
    {
     "name": "stdout",
     "output_type": "stream",
     "text": [
      "[[ 1.  2.  3.  4.  5.]\n",
      " [ 0.  2.  3.  4.  5.]\n",
      " [ 0.  0.  0.  3.  2.]\n",
      " [ 0.  0.  0.  0.  3.]]\n"
     ]
    }
   ],
   "source": [
    "alist = [[0, 2, 3, 4, 5],\n",
    "         [0, 0, 0, 3, 2],\n",
    "         [1, 2, 3, 4, 5],\n",
    "         [0, 0, 0, 6, 7],\n",
    "         [0, 0, 0, 9, 8]]\n",
    "\n",
    "A = np.array(alist, dtype=np.float32)\n",
    "B = conv_echelon_form(A)\n",
    "\n",
    "print(B)"
   ]
  },
  {
   "cell_type": "code",
   "execution_count": null,
   "metadata": {
    "collapsed": true
   },
   "outputs": [],
   "source": []
  }
 ],
 "metadata": {
  "kernelspec": {
   "display_name": "Python 3",
   "language": "python",
   "name": "python3"
  },
  "language_info": {
   "codemirror_mode": {
    "name": "ipython",
    "version": 3
   },
   "file_extension": ".py",
   "mimetype": "text/x-python",
   "name": "python",
   "nbconvert_exporter": "python",
   "pygments_lexer": "ipython3",
   "version": "3.5.2"
  }
 },
 "nbformat": 4,
 "nbformat_minor": 1
}
