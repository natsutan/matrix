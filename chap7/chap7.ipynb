{
 "cells": [
  {
   "cell_type": "markdown",
   "metadata": {},
   "source": [
    "# 階段形式\n",
    "\n",
    "*階段形式* とは三角行列の一般化。\n",
    "\n",
    "$  \\left[ \\begin{array}{rrr} 0 & 2 & 3 & 0 & 5 & 6 \\\\ 0 & 0 & 1 & 0 & 3 & 4 \\\\ 0 & 0 & 0 & 0 & 1 & 2 \\\\ 0 & 0 & 0 & 0 & 0 & 9 \\end{array} \\right] $\n",
    "\n",
    "行列 $ A $ の各行に対し、0でない要素が初めて現れる列の様子が右下がりの階段のようになっている。\n",
    "\n",
    "## 階段形式からベクトル空間の基底へ\n",
    "\n",
    "### 行列が階段形式ならば、0でない要素を持つ行は行ベクトルの基底を成す。\n",
    "例えば、\n",
    "\n",
    "$  \\left[ \\begin{array}{rrr} 0 & 2 & 3 & 0 & 5 & 6 \\\\ 0 & 0 & 1 & 0 & 3 & 4 \\\\ 0 & 0 & 0 & 0 & 0 & 0 \\\\ 0 & 0 & 0 & 0 & 0 & 0 \\end{array} \\right] $\n",
    "\n",
    "の行ベクトルの基底は、\n",
    "$  \\left[ \\begin{array}{rrr} 0 & 2 & 3 & 0 & 5 & 6  \\end{array} \\right] $\n",
    "$  \\left[ \\begin{array}{rrr} 0 & 0 & 1 & 0 & 3 & 4  \\end{array} \\right] $\n",
    "である。\n",
    "\n",
    "\n",
    "\n",
    " "
   ]
  },
  {
   "cell_type": "code",
   "execution_count": null,
   "metadata": {
    "collapsed": true
   },
   "outputs": [],
   "source": []
  }
 ],
 "metadata": {
  "kernelspec": {
   "display_name": "Python 3",
   "language": "python",
   "name": "python3"
  },
  "language_info": {
   "codemirror_mode": {
    "name": "ipython",
    "version": 3
   },
   "file_extension": ".py",
   "mimetype": "text/x-python",
   "name": "python",
   "nbconvert_exporter": "python",
   "pygments_lexer": "ipython3",
   "version": "3.5.2"
  }
 },
 "nbformat": 4,
 "nbformat_minor": 1
}
